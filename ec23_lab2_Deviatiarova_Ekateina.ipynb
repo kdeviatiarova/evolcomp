{
 "cells": [
  {
   "cell_type": "markdown",
   "source": [
    "# N-Queens Genetic Algorithm"
   ],
   "metadata": {
    "collapsed": false
   },
   "id": "13d2bdf7e96b464b"
  },
  {
   "cell_type": "markdown",
   "source": [
    "**by DEVIATIAROVA EKATERINA**"
   ],
   "metadata": {
    "collapsed": false
   },
   "id": "5a3cbf88e210740e"
  },
  {
   "cell_type": "markdown",
   "source": [
    "## Problem Definition\n",
    "The problem is to place N queens on an N×N chessboard such that no two queens threaten each other. Thus, a solution requires that no two queens share the same row, column, or diagonal.\n",
    "I tried to do it from 'scratch' using [documentation](https://deap.readthedocs.io/en/master/index.html)."
   ],
   "metadata": {
    "collapsed": false
   },
   "id": "243873ca7cd0dd83"
  },
  {
   "cell_type": "code",
   "execution_count": 1,
   "outputs": [],
   "source": [
    "import random\n",
    "from deap import base, creator, tools, algorithms\n",
    "import matplotlib.pyplot as plt"
   ],
   "metadata": {
    "collapsed": false,
    "ExecuteTime": {
     "start_time": "2024-01-24T12:49:29.571104Z"
    }
   },
   "id": "f2425a40408504f7"
  },
  {
   "cell_type": "code",
   "execution_count": 2,
   "outputs": [],
   "source": [
    "N = 8"
   ],
   "metadata": {
    "collapsed": false,
    "ExecuteTime": {
     "end_time": "2024-01-24T12:49:29.579710Z",
     "start_time": "2024-01-24T12:49:29.578204Z"
    }
   },
   "id": "d96765f1a434c49e"
  },
  {
   "cell_type": "code",
   "execution_count": 3,
   "outputs": [],
   "source": [
    "creator.create(\"FitnessMin\", base.Fitness, weights=(-1.0,))\n",
    "creator.create(\"Individual\", list, fitness=creator.FitnessMin)"
   ],
   "metadata": {
    "collapsed": false,
    "ExecuteTime": {
     "end_time": "2024-01-24T12:49:29.583727Z",
     "start_time": "2024-01-24T12:49:29.579994Z"
    }
   },
   "id": "5f76d15f62d1088b"
  },
  {
   "cell_type": "markdown",
   "source": [
    "`gene` is registered as a function that generates random integers between 0 and `N-1`. This function is used to initialize the values for an individual in the genetic algorithm.\n",
    "\n",
    "An individual is initialized using the `tools.initRepeat` function, which repeats the `toolbox.gene` function `N` times to create an individual. In the context of the N-Queens problem, this individual represents a possible arrangement of queens on the chessboard."
   ],
   "metadata": {
    "collapsed": false
   },
   "id": "9ba8148a8414f85a"
  },
  {
   "cell_type": "code",
   "execution_count": 4,
   "outputs": [],
   "source": [
    "toolbox = base.Toolbox()\n",
    "\n",
    "toolbox.register(\"gene\", random.randint, 0, N-1)\n",
    "toolbox.register(\"individual\", tools.initRepeat, creator.Individual, toolbox.gene, N)\n",
    "toolbox.register(\"population\", tools.initRepeat, list, toolbox.individual)\n",
    "toolbox.register(\"mate\", tools.cxOrdered)\n",
    "toolbox.register(\"mutate\", tools.mutShuffleIndexes, indpb=0.05)\n",
    "toolbox.register(\"select\", tools.selTournament, tournsize=3)"
   ],
   "metadata": {
    "collapsed": false,
    "ExecuteTime": {
     "end_time": "2024-01-24T12:49:29.583824Z",
     "start_time": "2024-01-24T12:49:29.582361Z"
    }
   },
   "id": "a7314a0a4a680947"
  },
  {
   "cell_type": "markdown",
   "source": [
    "The `evaluate` function quantifies how well a potential solution performs with respect to the goal. In the context of the N-Queens problem, the goal is to minimize the number of conflicts between queens on the chessboard.\n",
    "\n",
    "If two queens are in the same column (`individual[i] == individual[j]`) or on the same diagonal (`abs(i - j) == abs(individual[i] - individual[j])`), it increments the `conflicts` count.\n"
   ],
   "metadata": {
    "collapsed": false
   },
   "id": "ffe28eb9acd97bd"
  },
  {
   "cell_type": "code",
   "execution_count": 5,
   "outputs": [],
   "source": [
    "def evaluate(individual):\n",
    "    conflicts = 0\n",
    "    for i in range(N - 1):\n",
    "        for j in range(i + 1, N):\n",
    "            if individual[i] == individual[j] or abs(i - j) == abs(individual[i] - individual[j]):\n",
    "                conflicts += 1\n",
    "    return conflicts,"
   ],
   "metadata": {
    "collapsed": false,
    "ExecuteTime": {
     "end_time": "2024-01-24T12:49:29.587943Z",
     "start_time": "2024-01-24T12:49:29.584593Z"
    }
   },
   "id": "76fe45d512f28d17"
  },
  {
   "cell_type": "code",
   "execution_count": 6,
   "outputs": [],
   "source": [
    "toolbox.register(\"evaluate\", evaluate)"
   ],
   "metadata": {
    "collapsed": false,
    "ExecuteTime": {
     "end_time": "2024-01-24T12:49:29.588038Z",
     "start_time": "2024-01-24T12:49:29.586165Z"
    }
   },
   "id": "29a12931bca58724"
  },
  {
   "cell_type": "code",
   "execution_count": 66,
   "outputs": [],
   "source": [
    "def plot_board(individual):\n",
    "    plt.imshow([[1 if (row + col) % 2 == 1 else 0 for col in range(N)] for row in range(N)], cmap='gray', extent=[0, N, 0, N])\n",
    "    plt.scatter([col + 0.5 for col in individual], [N - row - 0.5 for row in range(N)], marker='o', color='red')\n",
    "    plt.title('N-Queens Placement')\n",
    "    plt.show()"
   ],
   "metadata": {
    "collapsed": false,
    "ExecuteTime": {
     "end_time": "2024-01-24T12:57:32.209907Z",
     "start_time": "2024-01-24T12:57:32.198721Z"
    }
   },
   "id": "dea8f389d42be2e0"
  },
  {
   "cell_type": "code",
   "execution_count": 62,
   "outputs": [
    {
     "name": "stdout",
     "output_type": "stream",
     "text": [
      "Best individual: [3, 6, 0, 7, 4, 1, 5, 2]\n",
      "Fitness: 0.0\n"
     ]
    }
   ],
   "source": [
    "population_size = 2500\n",
    "generations = 100\n",
    "crossover_prob = 0.8\n",
    "mutation_prob = 0.2\n",
    "\n",
    "population = toolbox.population(n=population_size)\n",
    "\n",
    "# This part of the code evaluates the fitness of each individual in the initial population. The `evaluate` function is applied to each individual in the population using `map` . The resulting fitness values are then assigned to each individual's `fitness.values` attr.\n",
    "\n",
    "fitnesses = list(map(toolbox.evaluate, population))\n",
    "for ind, fit in zip(population, fitnesses):\n",
    "    ind.fitness.values = fit\n",
    "\n",
    "# The next part is the loop that performs the evolution over generations. It includes the following steps:\n",
    "\n",
    "for generation in range(generations):\n",
    "    # 1. The `algorithms.varAnd` function is used to apply crossover and mutation to the current population. \n",
    "    offspring = algorithms.varAnd(population, toolbox, cxpb=crossover_prob, mutpb=mutation_prob)\n",
    "\n",
    "    # 2. The fitness of each individual in the offspring is evaluated using the `evaluate` function.\n",
    "    fitnesses = list(map(toolbox.evaluate, offspring))\n",
    "    for ind, fit in zip(offspring, fitnesses):\n",
    "        ind.fitness.values = fit\n",
    "        \n",
    "    # 3. The next generation is selected by combining the current population and the offspring, and then selecting the best individuals based on their fitness values.\n",
    "    population[:] = toolbox.select(population + offspring, k=population_size)\n",
    "\n",
    "best_ind = tools.selBest(population, k=1)[0]\n",
    "print(\"Best individual:\", best_ind)\n",
    "print(\"Fitness:\", best_ind.fitness.values[0])"
   ],
   "metadata": {
    "collapsed": false,
    "ExecuteTime": {
     "end_time": "2024-01-24T12:54:53.065512Z",
     "start_time": "2024-01-24T12:54:50.126942Z"
    }
   },
   "id": "e5f29132d817f7f0"
  },
  {
   "cell_type": "code",
   "execution_count": 67,
   "outputs": [
    {
     "data": {
      "text/plain": "<Figure size 640x480 with 1 Axes>",
      "image/png": "[encoded data removed]"
     },
     "metadata": {},
     "output_type": "display_data"
    }
   ],
   "source": [
    "plot_board(tools.selBest(population, k=1)[0])"
   ],
   "metadata": {
    "collapsed": false,
    "ExecuteTime": {
     "end_time": "2024-01-24T12:57:34.994188Z",
     "start_time": "2024-01-24T12:57:34.886848Z"
    }
   },
   "id": "240aca828139fb1a"
  },
  {
   "cell_type": "markdown",
   "source": [
    "By the way, this solution corresponds to the solution 11 on the [Wikipedia page](https://en.wikipedia.org/wiki/Eight_queens_puzzle#Constructing_and_counting_solutions_when_n_=_8) for the algorithm \n",
    "![Chessboard](wiki.png)\n",
    "Lower, a different solution is presented."
   ],
   "metadata": {
    "collapsed": false
   },
   "id": "eaaffa4505804e6e"
  },
  {
   "cell_type": "code",
   "execution_count": 73,
   "outputs": [
    {
     "name": "stdout",
     "output_type": "stream",
     "text": [
      "Best individual: [2, 5, 1, 4, 7, 0, 6, 3]\n",
      "Fitness: 0.0\n"
     ]
    }
   ],
   "source": [
    "population_size = 2500\n",
    "generations = 100\n",
    "crossover_prob = 0.8\n",
    "mutation_prob = 0.2\n",
    "\n",
    "population = toolbox.population(n=population_size)\n",
    "\n",
    "fitnesses = list(map(toolbox.evaluate, population))\n",
    "for ind, fit in zip(population, fitnesses):\n",
    "    ind.fitness.values = fit\n",
    "\n",
    "\n",
    "for generation in range(generations):\n",
    "    offspring = algorithms.varAnd(population, toolbox, cxpb=crossover_prob, mutpb=mutation_prob)\n",
    "\n",
    "    fitnesses = list(map(toolbox.evaluate, offspring))\n",
    "    for ind, fit in zip(offspring, fitnesses):\n",
    "        ind.fitness.values = fit\n",
    "\n",
    "    population[:] = toolbox.select(population + offspring, k=population_size)\n",
    "\n",
    "best_ind = tools.selBest(population, k=1)[0]\n",
    "print(\"Best individual:\", best_ind)\n",
    "print(\"Fitness:\", best_ind.fitness.values[0])"
   ],
   "metadata": {
    "collapsed": false,
    "ExecuteTime": {
     "end_time": "2024-01-24T13:34:48.228389Z",
     "start_time": "2024-01-24T13:34:45.135959Z"
    }
   },
   "id": "9b9832083dc3a5a8"
  },
  {
   "cell_type": "code",
   "execution_count": 74,
   "outputs": [
    {
     "data": {
      "text/plain": "<Figure size 640x480 with 1 Axes>",
      "image/png": "[encoded data removed]"
     },
     "metadata": {},
     "output_type": "display_data"
    }
   ],
   "source": [
    "plot_board(tools.selBest(population, k=1)[0])"
   ],
   "metadata": {
    "collapsed": false,
    "ExecuteTime": {
     "end_time": "2024-01-24T13:34:51.416004Z",
     "start_time": "2024-01-24T13:34:51.304021Z"
    }
   },
   "id": "a330ec2e34f63d3f"
  },
  {
   "cell_type": "code",
   "execution_count": null,
   "outputs": [],
   "source": [],
   "metadata": {
    "collapsed": false
   },
   "id": "5c3886aff31fbebd"
  }
 ],
 "metadata": {
  "kernelspec": {
   "display_name": "Python 3",
   "language": "python",
   "name": "python3"
  },
  "language_info": {
   "codemirror_mode": {
    "name": "ipython",
    "version": 2
   },
   "file_extension": ".py",
   "mimetype": "text/x-python",
   "name": "python",
   "nbconvert_exporter": "python",
   "pygments_lexer": "ipython2",
   "version": "2.7.6"
  }
 },
 "nbformat": 4,
 "nbformat_minor": 5
}
