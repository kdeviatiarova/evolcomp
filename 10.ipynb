{
 "cells": [
  {
   "cell_type": "code",
   "execution_count": null,
   "id": "initial_id",
   "metadata": {
    "collapsed": true,
    "ExecuteTime": {
     "end_time": "2024-01-24T13:21:42.763463Z",
     "start_time": "2024-01-24T13:21:42.762072Z"
    }
   },
   "outputs": [],
   "source": []
  },
  {
   "cell_type": "code",
   "execution_count": 5,
   "outputs": [
    {
     "data": {
      "text/plain": "<Figure size 640x480 with 1 Axes>",
      "image/png": "[encoded data removed]"
     },
     "metadata": {},
     "output_type": "display_data"
    }
   ],
   "source": [
    "import random\n",
    "from deap import base, creator, tools, algorithms\n",
    "import matplotlib.pyplot as plt\n",
    "\n",
    "def evaluate(individual):\n",
    "    conflicts = 0\n",
    "    for i in range(len(individual) - 1):\n",
    "        for j in range(i + 1, len(individual)):\n",
    "            if individual[i] == individual[j] or abs(i - j) == abs(individual[i] - individual[j]):\n",
    "                conflicts += 1\n",
    "    return conflicts,\n",
    "\n",
    "def plot_board(individual):\n",
    "    N = len(individual)\n",
    "    board = [['.' for _ in range(N)] for _ in range(N)]\n",
    "\n",
    "    for i, col in enumerate(individual):\n",
    "        board[col][i] = 'Q'\n",
    "\n",
    "    plt.imshow([[1 if (row + col) % 2 == 1 else 0 for col in range(N)] for row in range(N)], cmap='gray', extent=[0, N, 0, N])\n",
    "    plt.scatter([col + 0.5 for col in individual], [N - row - 0.5 for row in range(N)], marker='o', color='red')\n",
    "    plt.title(f'N-Queens Placement (N={N})')\n",
    "    plt.show()\n",
    "\n",
    "def genetic_algorithm(N, population_size=100, generations=100, crossover_prob=0.8, mutation_prob=0.2):\n",
    "    creator.create(\"FitnessMin\", base.Fitness, weights=(-1.0,))\n",
    "    creator.create(\"Individual\", list, fitness=creator.FitnessMin)\n",
    "\n",
    "    toolbox = base.Toolbox()\n",
    "    toolbox.register(\"gene\", random.randint, 0, N-1)\n",
    "    toolbox.register(\"individual\", tools.initRepeat, creator.Individual, toolbox.gene, N)\n",
    "    toolbox.register(\"population\", tools.initRepeat, list, toolbox.individual)\n",
    "\n",
    "    toolbox.register(\"evaluate\", evaluate)\n",
    "    toolbox.register(\"mate\", tools.cxPartialyMatched)\n",
    "    toolbox.register(\"mutate\", tools.mutShuffleIndexes, indpb=0.05)\n",
    "    toolbox.register(\"select\", tools.selTournament, tournsize=3)\n",
    "\n",
    "    population = toolbox.population(n=population_size)\n",
    "    fitnesses = list(map(toolbox.evaluate, population))\n",
    "    for ind, fit in zip(population, fitnesses):\n",
    "        ind.fitness.values = fit\n",
    "\n",
    "    for generation in range(generations):\n",
    "        offspring = algorithms.varAnd(population, toolbox, cxpb=crossover_prob, mutpb=mutation_prob)\n",
    "        fitnesses = list(map(toolbox.evaluate, offspring))\n",
    "        for ind, fit in zip(offspring, fitnesses):\n",
    "            ind.fitness.values = fit\n",
    "        population[:] = toolbox.select(population + offspring, k=population_size)\n",
    "\n",
    "    best_ind = tools.selBest(population, k=1)[0]\n",
    "    plot_board(best_ind)\n",
    "\n",
    "# Example usage with N=10\n",
    "genetic_algorithm(N=10)\n"
   ],
   "metadata": {
    "collapsed": false,
    "ExecuteTime": {
     "end_time": "2024-01-24T13:24:35.950522Z",
     "start_time": "2024-01-24T13:24:35.788588Z"
    }
   },
   "id": "536cfa70ebb8870d"
  },
  {
   "cell_type": "code",
   "execution_count": 1,
   "outputs": [],
   "source": [],
   "metadata": {
    "collapsed": false,
    "ExecuteTime": {
     "end_time": "2024-01-24T13:21:43.002006Z",
     "start_time": "2024-01-24T13:21:43.000011Z"
    }
   },
   "id": "c66affbaa4fdc21d"
  }
 ],
 "metadata": {
  "kernelspec": {
   "display_name": "Python 3",
   "language": "python",
   "name": "python3"
  },
  "language_info": {
   "codemirror_mode": {
    "name": "ipython",
    "version": 2
   },
   "file_extension": ".py",
   "mimetype": "text/x-python",
   "name": "python",
   "nbconvert_exporter": "python",
   "pygments_lexer": "ipython2",
   "version": "2.7.6"
  }
 },
 "nbformat": 4,
 "nbformat_minor": 5
}
